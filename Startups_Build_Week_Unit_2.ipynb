{
  "nbformat": 4,
  "nbformat_minor": 0,
  "metadata": {
    "colab": {
      "name": "Startups Build Week Unit 2.ipynb",
      "provenance": [],
      "collapsed_sections": [],
      "mount_file_id": "1aTRfTNSy3RnQcN635rWpytQGpO5lXc6k",
      "authorship_tag": "ABX9TyMHHuaQR6NSwuq6gxtafcAn",
      "include_colab_link": true
    },
    "kernelspec": {
      "name": "python3",
      "display_name": "Python 3"
    }
  },
  "cells": [
    {
      "cell_type": "markdown",
      "metadata": {
        "id": "view-in-github",
        "colab_type": "text"
      },
      "source": [
        "<a href=\"https://colab.research.google.com/github/photostachio/Unit2_Build_Startups/blob/master/Startups_Build_Week_Unit_2.ipynb\" target=\"_parent\"><img src=\"https://colab.research.google.com/assets/colab-badge.svg\" alt=\"Open In Colab\"/></a>"
      ]
    },
    {
      "cell_type": "code",
      "metadata": {
        "id": "hPlA7SUjWp5_",
        "colab_type": "code",
        "colab": {}
      },
      "source": [
        "%%capture\n",
        "import sys\n",
        "\n",
        "if 'google.colab' in sys.modules:\n",
        "    # Install packages in Colab\n",
        "    !pip install category_encoders==2.*\n",
        "    !pip install eli5\n",
        "    !pip install pandas-profiling==2.*\n",
        "    !pip install pdpbox\n",
        "    !pip install shap"
      ],
      "execution_count": 0,
      "outputs": []
    },
    {
      "cell_type": "code",
      "metadata": {
        "id": "GSw8yGyQeslH",
        "colab_type": "code",
        "colab": {}
      },
      "source": [
        "%matplotlib inline\n",
        "import numpy as np \n",
        "import pandas as pd \n",
        "import seaborn as sns\n",
        "import matplotlib.pyplot as plt\n",
        "pd.options.mode.chained_assignment = None\n",
        "pd.set_option('display.max_column',None)\n",
        "df = pd.read_csv('/content/drive/My Drive/investments_VC.csv',encoding = 'unicode_escape')\n",
        "df.head()"
      ],
      "execution_count": 0,
      "outputs": []
    },
    {
      "cell_type": "code",
      "metadata": {
        "id": "OQxtj1iHf2wP",
        "colab_type": "code",
        "colab": {}
      },
      "source": [
        "df['status'].unique()"
      ],
      "execution_count": 0,
      "outputs": []
    },
    {
      "cell_type": "code",
      "metadata": {
        "id": "rzPPRzUngF0G",
        "colab_type": "code",
        "colab": {}
      },
      "source": [
        "df = df.dropna()"
      ],
      "execution_count": 0,
      "outputs": []
    },
    {
      "cell_type": "code",
      "metadata": {
        "id": "LO2Git-agK1K",
        "colab_type": "code",
        "colab": {}
      },
      "source": [
        "df['status'].unique()"
      ],
      "execution_count": 0,
      "outputs": []
    },
    {
      "cell_type": "code",
      "metadata": {
        "id": "duqp4NvYaaLN",
        "colab_type": "code",
        "colab": {}
      },
      "source": [
        "#First we will transform 'status' into a 2/1/0 format for Acquired, operating and closed\n",
        "df['status'] = df['status'].map({'acquired': 1, 'operating': 1, 'closed': 0})\n",
        "df['status']"
      ],
      "execution_count": 0,
      "outputs": []
    },
    {
      "cell_type": "code",
      "metadata": {
        "id": "vuEVIi0m2bTu",
        "colab_type": "code",
        "colab": {}
      },
      "source": [
        "df['status'].value_counts(normalize=True)"
      ],
      "execution_count": 0,
      "outputs": []
    },
    {
      "cell_type": "code",
      "metadata": {
        "id": "hUHDBOOmAFeA",
        "colab_type": "code",
        "colab": {}
      },
      "source": [
        "df['status'].mean()"
      ],
      "execution_count": 0,
      "outputs": []
    },
    {
      "cell_type": "code",
      "metadata": {
        "id": "XvVD5Gh4zhTL",
        "colab_type": "code",
        "colab": {}
      },
      "source": [
        "df['initial_funding'] = df['seed'] + df['venture'] + df['equity_crowdfunding'] + df['private_equity'] + df['angel'] + df['product_crowdfunding']"
      ],
      "execution_count": 0,
      "outputs": []
    },
    {
      "cell_type": "code",
      "metadata": {
        "id": "mczOqoclaaPI",
        "colab_type": "code",
        "colab": {}
      },
      "source": [
        "sns.countplot(x='status', data=df,palette='RdBu_r')"
      ],
      "execution_count": 0,
      "outputs": []
    },
    {
      "cell_type": "code",
      "metadata": {
        "id": "CGBA8g6GjW3S",
        "colab_type": "code",
        "colab": {}
      },
      "source": [
        "df['status'].value_counts()"
      ],
      "execution_count": 0,
      "outputs": []
    },
    {
      "cell_type": "code",
      "metadata": {
        "id": "eZ_4BWEszIRQ",
        "colab_type": "code",
        "colab": {}
      },
      "source": [
        ""
      ],
      "execution_count": 0,
      "outputs": []
    },
    {
      "cell_type": "code",
      "metadata": {
        "id": "6eZyib01jdXB",
        "colab_type": "code",
        "colab": {}
      },
      "source": [
        "df.describe()\n"
      ],
      "execution_count": 0,
      "outputs": []
    },
    {
      "cell_type": "code",
      "metadata": {
        "id": "8-JldfPEjmeh",
        "colab_type": "code",
        "colab": {}
      },
      "source": [
        "df['category_list'].describe()"
      ],
      "execution_count": 0,
      "outputs": []
    },
    {
      "cell_type": "code",
      "metadata": {
        "id": "FYDomlFljqIt",
        "colab_type": "code",
        "colab": {}
      },
      "source": [
        "df[' market '].describe()"
      ],
      "execution_count": 0,
      "outputs": []
    },
    {
      "cell_type": "code",
      "metadata": {
        "id": "vVFfyp4ejtQl",
        "colab_type": "code",
        "colab": {}
      },
      "source": [
        "df['founded_year'].describe()"
      ],
      "execution_count": 0,
      "outputs": []
    },
    {
      "cell_type": "code",
      "metadata": {
        "id": "L4CsmoaQjuD8",
        "colab_type": "code",
        "colab": {}
      },
      "source": [
        "def year_group(row):\n",
        "    if row['founded_year'] >= 1900 and row['founded_year'] <= 1925:\n",
        "        row['founded_year_group'] = 'less_than_1925'\n",
        "    elif row['founded_year'] > 1925 and row['founded_year'] <= 1950:\n",
        "        row['founded_year_group'] = '1925_1950'\n",
        "    elif row['founded_year'] > 1950 and row['founded_year'] <= 1975:\n",
        "        row['founded_year_group'] = '1950_1975'\n",
        "    elif row['founded_year'] > 1975 and row['founded_year'] <= 2000:\n",
        "        row['founded_year_group'] = '1975_2000'\n",
        "    elif row['founded_year'] > 2000:\n",
        "        row['founded_year_group'] = '2000_2014'\n",
        "    else:\n",
        "        row['founded_year_group'] = ''\n",
        "    return row['founded_year_group']\n",
        "\n",
        "df['founded_year_group'] =  df.apply(year_group,axis =1)"
      ],
      "execution_count": 0,
      "outputs": []
    },
    {
      "cell_type": "code",
      "metadata": {
        "id": "P8fxCLIxjyYB",
        "colab_type": "code",
        "colab": {}
      },
      "source": [
        "plt.figure(figsize = (10,7))\n",
        "sns.countplot(x = 'founded_year_group', data = df.dropna())\n",
        "plt.show()"
      ],
      "execution_count": 0,
      "outputs": []
    },
    {
      "cell_type": "code",
      "metadata": {
        "id": "erSThJCPj8eC",
        "colab_type": "code",
        "colab": {}
      },
      "source": [
        "df_2000 = df[df['founded_year'] >= 2000]\n",
        "df_2000['founded_year'] = df_2000['founded_year'].astype(int)\n",
        "plt.figure(figsize = (16,7))\n",
        "sns.countplot(x = 'founded_year', data = df_2000)\n",
        "plt.show()"
      ],
      "execution_count": 0,
      "outputs": []
    },
    {
      "cell_type": "code",
      "metadata": {
        "id": "Q4aak_7jlI9n",
        "colab_type": "code",
        "colab": {}
      },
      "source": [
        "df_2000['country_code'].unique()"
      ],
      "execution_count": 0,
      "outputs": []
    },
    {
      "cell_type": "code",
      "metadata": {
        "id": "gWyhN9EwlTSZ",
        "colab_type": "code",
        "colab": {}
      },
      "source": [
        "df_2000_USA = df_2000[(df_2000['country_code'] =='USA')]\n",
        "plt.figure(figsize=(16,7))\n",
        "g = sns.countplot(x ='state_code', data = df_2000_USA, order=df['state_code'].value_counts().iloc[:53].index)\n",
        "plt.xticks(rotation=30)\n",
        "plt.show()"
      ],
      "execution_count": 0,
      "outputs": []
    },
    {
      "cell_type": "code",
      "metadata": {
        "id": "KAlBwZJ2ln46",
        "colab_type": "code",
        "colab": {}
      },
      "source": [
        ""
      ],
      "execution_count": 0,
      "outputs": []
    },
    {
      "cell_type": "code",
      "metadata": {
        "id": "hfqIgVbdkOmA",
        "colab_type": "code",
        "colab": {}
      },
      "source": [
        "plt.figure(figsize=(20,7))\n",
        "sns.countplot(x =' market ', data = df_2000, order=df_2000[' market '].value_counts().iloc[:50].index)\n",
        "plt.xticks(rotation=75)\n",
        "plt.show()"
      ],
      "execution_count": 0,
      "outputs": []
    },
    {
      "cell_type": "code",
      "metadata": {
        "id": "iAbXyOX_hNFP",
        "colab_type": "code",
        "colab": {}
      },
      "source": [
        "df_2000_USA.dtypes"
      ],
      "execution_count": 0,
      "outputs": []
    },
    {
      "cell_type": "code",
      "metadata": {
        "id": "hyvEXW32jCre",
        "colab_type": "code",
        "colab": {}
      },
      "source": [
        "columns = [' market ', 'initial_funding', 'status', 'country_code',\n",
        "           'state_code', 'city', 'funding_rounds', 'seed', 'venture',\n",
        "           'equity_crowdfunding', 'private_equity', 'angel', 'product_crowdfunding']\n",
        "\n",
        "df_2000_USA = df_2000_USA[columns]"
      ],
      "execution_count": 0,
      "outputs": []
    },
    {
      "cell_type": "code",
      "metadata": {
        "id": "6ohutIe8OF4G",
        "colab_type": "code",
        "colab": {}
      },
      "source": [
        "df_2000_USA['state_code']"
      ],
      "execution_count": 0,
      "outputs": []
    },
    {
      "cell_type": "code",
      "metadata": {
        "id": "fpBq4JjcmeuQ",
        "colab_type": "code",
        "colab": {}
      },
      "source": [
        "df_2000_USA.dtypes"
      ],
      "execution_count": 0,
      "outputs": []
    },
    {
      "cell_type": "code",
      "metadata": {
        "id": "aCUnzubzbn5L",
        "colab_type": "code",
        "colab": {}
      },
      "source": [
        "df_2000_USA = pd.concat([df_2000_USA,pd.get_dummies(df_2000_USA[' market '],drop_first=True,prefix=\" market \")],axis=1)\n",
        "df_2000_USA = pd.concat([df_2000_USA,pd.get_dummies(df_2000_USA['country_code'],drop_first=True,prefix=\"country_code\")],axis=1)\n",
        "df_2000_USA = pd.concat([df_2000_USA,pd.get_dummies(df_2000_USA['state_code'],drop_first=True,prefix=\"state_code\")],axis=1)\n",
        "df_2000_USA = pd.concat([df_2000_USA,pd.get_dummies(df_2000_USA['city'],drop_first=True,prefix=\"city\")],axis=1)\n"
      ],
      "execution_count": 0,
      "outputs": []
    },
    {
      "cell_type": "code",
      "metadata": {
        "id": "RWnn6Nwqnle-",
        "colab_type": "code",
        "colab": {}
      },
      "source": [
        "#Drop the original Categorical Variables\n",
        "df_2000_USA.drop([' market ','country_code','state_code','city'],axis=1,inplace=True)"
      ],
      "execution_count": 0,
      "outputs": []
    },
    {
      "cell_type": "code",
      "metadata": {
        "id": "r2C5dO4QY-Mg",
        "colab_type": "code",
        "colab": {}
      },
      "source": [
        "#Create the train and test split\n",
        "from sklearn.model_selection import train_test_split\n",
        "\n",
        "X_train, X_test, y_train, y_test = train_test_split(df_2000_USA.drop('status',axis=1), \n",
        "                                                    df_2000_USA['status'], test_size=0.30, \n",
        "                                                    random_state=101)"
      ],
      "execution_count": 0,
      "outputs": []
    },
    {
      "cell_type": "code",
      "metadata": {
        "id": "NHDIpqSusSi2",
        "colab_type": "code",
        "colab": {}
      },
      "source": [
        "y_train.value_counts(normalize=True)"
      ],
      "execution_count": 0,
      "outputs": []
    },
    {
      "cell_type": "code",
      "metadata": {
        "id": "kO4GGf4moOFC",
        "colab_type": "code",
        "colab": {}
      },
      "source": [
        "from sklearn.linear_model import LogisticRegression\n",
        "from sklearn.ensemble import RandomForestClassifier\n",
        "\n",
        "#Train the model\n",
        "# logmodel = RandomForestClassifier(random_state = 1, max_depth = 15, n_estimators = 500,\n",
        "#                                   min_samples_split = 2, min_samples_leaf = 1, class_weight='balanced')\n",
        "\n",
        "logmodel = RandomForestClassifier(class_weight='balanced', criterion='gini', max_depth=15, max_features='auto', max_leaf_nodes=None,\n",
        "                                                         min_samples_leaf=1,min_samples_split=2, min_weight_fraction_leaf=0,\n",
        "                                                         n_estimators=500, n_jobs=1, oob_score=False, random_state=42,\n",
        "                                                         verbose=0, warm_start=False)\n",
        "logmodel.fit(X_train,y_train)\n",
        "\n",
        "#Predicting on the Test Set\n",
        "predictions = logmodel.predict(X_test)"
      ],
      "execution_count": 0,
      "outputs": []
    },
    {
      "cell_type": "code",
      "metadata": {
        "id": "xyE_8kNaoVzi",
        "colab_type": "code",
        "colab": {}
      },
      "source": [
        "#Model Evaluation\n",
        "from sklearn.metrics import classification_report, roc_auc_score\n",
        "print(classification_report(y_test,predictions))\n",
        "\n",
        "truePos = X_test[((predictions == 1) & (y_test == predictions))]\n",
        "falsePos = X_test[((predictions == 1) & (y_test != predictions))]\n",
        "trueNeg = X_test[((predictions == 0) & (y_test == predictions))]\n",
        "falseNeg = X_test[((predictions == 0) & (y_test != predictions))]\n",
        "\n",
        "TP = truePos.shape[0]\n",
        "FP = falsePos.shape[0]\n",
        "TN = trueNeg.shape[0]\n",
        "FN = falseNeg.shape[0]\n",
        "\n",
        "accuracy = float(TP + TN)/float(TP + TN + FP + FN)\n",
        "print('Accuracy: '+str(accuracy))\n",
        "print('ROC AUC SCORE',roc_auc_score(y_test, predictions))"
      ],
      "execution_count": 0,
      "outputs": []
    },
    {
      "cell_type": "code",
      "metadata": {
        "id": "uDIsFu9XowmS",
        "colab_type": "code",
        "colab": {}
      },
      "source": [
        "import pickle\n",
        "\n",
        "with open('logmodel.pkl', 'wb') as fid:\n",
        "    pickle.dump(logmodel, fid,2)  "
      ],
      "execution_count": 0,
      "outputs": []
    },
    {
      "cell_type": "code",
      "metadata": {
        "id": "ihvPUCLho5b0",
        "colab_type": "code",
        "colab": {}
      },
      "source": [
        "cat = df_2000_USA.drop('status',axis=1)\n",
        "index_dict = dict(zip(cat.columns,range(cat.shape[1])))\n",
        "\n",
        "#Save the index_dict into disk\n",
        "with open('cat', 'wb') as fid:\n",
        "    pickle.dump(index_dict, fid,2)  "
      ],
      "execution_count": 0,
      "outputs": []
    },
    {
      "cell_type": "code",
      "metadata": {
        "id": "yeSZo90mTjpq",
        "colab_type": "code",
        "colab": {}
      },
      "source": [
        ""
      ],
      "execution_count": 0,
      "outputs": []
    }
  ]
}